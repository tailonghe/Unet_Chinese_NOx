{
 "cells": [
  {
   "cell_type": "markdown",
   "id": "f112c999",
   "metadata": {},
   "source": [
    "# Built and compile the Unet"
   ]
  },
  {
   "cell_type": "code",
   "execution_count": 2,
   "id": "6ec00fb2",
   "metadata": {},
   "outputs": [],
   "source": [
    "from utils.functions import r2_keras, msenonzero, data_split\n",
    "from model.core import Unet\n",
    "from tensorflow.keras.optimizers import Adam\n",
    "from keras.callbacks import CSVLogger, EarlyStopping, ModelCheckpoint\n",
    "import numpy as np\n",
    "import glob"
   ]
  },
  {
   "cell_type": "code",
   "execution_count": 3,
   "id": "06b36c17",
   "metadata": {},
   "outputs": [
    {
     "name": "stdout",
     "output_type": "stream",
     "text": [
      "Model: \"model\"\n",
      "__________________________________________________________________________________________________\n",
      " Layer (type)                   Output Shape         Param #     Connected to                     \n",
      "==================================================================================================\n",
      " model_input (InputLayer)       [(None, 35, 46, 9)]  0           []                               \n",
      "                                                                                                  \n",
      " Block1_Conv1 (Conv2D)          (None, 35, 46, 128)  10496       ['model_input[0][0]']            \n",
      "                                                                                                  \n",
      " Block1_Conv2 (Conv2D)          (None, 35, 46, 256)  295168      ['Block1_Conv1[0][0]']           \n",
      "                                                                                                  \n",
      " Block1_MaxPool (MaxPooling2D)  (None, 18, 23, 256)  0           ['Block1_Conv2[0][0]']           \n",
      "                                                                                                  \n",
      " Block2_Conv1 (Conv2D)          (None, 18, 23, 256)  590080      ['Block1_MaxPool[0][0]']         \n",
      "                                                                                                  \n",
      " Block2_Conv2 (Conv2D)          (None, 18, 23, 512)  1180160     ['Block2_Conv1[0][0]']           \n",
      "                                                                                                  \n",
      " Block2_MaxPool (MaxPooling2D)  (None, 9, 12, 512)   0           ['Block2_Conv2[0][0]']           \n",
      "                                                                                                  \n",
      " Block3_Conv1 (Conv2D)          (None, 9, 12, 512)   2359808     ['Block2_MaxPool[0][0]']         \n",
      "                                                                                                  \n",
      " Block3_Conv2 (Conv2D)          (None, 9, 12, 1024)  4719616     ['Block3_Conv1[0][0]']           \n",
      "                                                                                                  \n",
      " Block3_MaxPool (MaxPooling2D)  (None, 5, 6, 1024)   0           ['Block3_Conv2[0][0]']           \n",
      "                                                                                                  \n",
      " Block4_Conv1 (Conv2D)          (None, 5, 6, 1024)   9438208     ['Block3_MaxPool[0][0]']         \n",
      "                                                                                                  \n",
      " Block4_Conv2 (Conv2D)          (None, 5, 6, 1024)   9438208     ['Block4_Conv1[0][0]']           \n",
      "                                                                                                  \n",
      " Block4_Permute1 (Permute)      (None, 1024, 5, 6)   0           ['Block4_Conv2[0][0]']           \n",
      "                                                                                                  \n",
      " Block4_Reshape (Reshape)       (None, 1024, 30)     0           ['Block4_Permute1[0][0]']        \n",
      "                                                                                                  \n",
      " Block4_Permute2 (Permute)      (None, 30, 1024)     0           ['Block4_Reshape[0][0]']         \n",
      "                                                                                                  \n",
      " LSTM1 (LSTM)                   (None, 30, 1024)     8392704     ['Block4_Permute2[0][0]']        \n",
      "                                                                                                  \n",
      " LSTM2 (LSTM)                   (None, 30, 1024)     8392704     ['LSTM1[0][0]']                  \n",
      "                                                                                                  \n",
      " Block5_Reshape (Reshape)       (None, 5, 6, 1024)   0           ['LSTM2[0][0]']                  \n",
      "                                                                                                  \n",
      " Block5_UpConv (Conv2DTranspose  (None, 10, 12, 512)  2097664    ['Block5_Reshape[0][0]']         \n",
      " )                                                                                                \n",
      "                                                                                                  \n",
      " lambda (Lambda)                (None, 9, 12, 512)   0           ['Block5_UpConv[0][0]']          \n",
      "                                                                                                  \n",
      " lambda_1 (Lambda)              (None, 9, 12, 512)   0           ['Block2_Conv2[0][0]']           \n",
      "                                                                                                  \n",
      " concatenate (Concatenate)      (None, 9, 12, 2048)  0           ['lambda[0][0]',                 \n",
      "                                                                  'Block3_Conv2[0][0]',           \n",
      "                                                                  'lambda_1[0][0]']               \n",
      "                                                                                                  \n",
      " Block5_Conv1 (Conv2D)          (None, 9, 12, 256)   4718848     ['concatenate[0][0]']            \n",
      "                                                                                                  \n",
      " Block5_Conv2 (Conv2D)          (None, 9, 12, 256)   590080      ['Block5_Conv1[0][0]']           \n",
      "                                                                                                  \n",
      " Block6_UpConv (Conv2DTranspose  (None, 18, 24, 256)  262400     ['Block5_Conv2[0][0]']           \n",
      " )                                                                                                \n",
      "                                                                                                  \n",
      " lambda_2 (Lambda)              (None, 18, 23, 256)  0           ['Block6_UpConv[0][0]']          \n",
      "                                                                                                  \n",
      " lambda_3 (Lambda)              (None, 18, 23, 256)  0           ['Block1_Conv2[0][0]']           \n",
      "                                                                                                  \n",
      " concatenate_1 (Concatenate)    (None, 18, 23, 1024  0           ['lambda_2[0][0]',               \n",
      "                                )                                 'Block2_Conv2[0][0]',           \n",
      "                                                                  'lambda_3[0][0]']               \n",
      "                                                                                                  \n",
      " Block6_Conv1 (Conv2D)          (None, 18, 23, 128)  1179776     ['concatenate_1[0][0]']          \n",
      "                                                                                                  \n",
      " Block6_Conv2 (Conv2D)          (None, 18, 23, 128)  147584      ['Block6_Conv1[0][0]']           \n",
      "                                                                                                  \n",
      " Block7_UpConv (Conv2DTranspose  (None, 36, 46, 128)  65664      ['Block6_Conv2[0][0]']           \n",
      " )                                                                                                \n",
      "                                                                                                  \n",
      " lambda_4 (Lambda)              (None, 35, 46, 128)  0           ['Block7_UpConv[0][0]']          \n",
      "                                                                                                  \n",
      " concatenate_2 (Concatenate)    (None, 35, 46, 384)  0           ['lambda_4[0][0]',               \n",
      "                                                                  'Block1_Conv2[0][0]']           \n",
      "                                                                                                  \n",
      " Block7_Conv1 (Conv2D)          (None, 35, 46, 64)   221248      ['concatenate_2[0][0]']          \n",
      "                                                                                                  \n",
      " Block7_Conv2 (Conv2D)          (None, 35, 46, 64)   36928       ['Block7_Conv1[0][0]']           \n",
      "                                                                                                  \n",
      " model_output (Conv2D)          (None, 35, 46, 1)    65          ['Block7_Conv2[0][0]']           \n",
      "                                                                                                  \n",
      "==================================================================================================\n",
      "Total params: 54,137,409\n",
      "Trainable params: 54,137,409\n",
      "Non-trainable params: 0\n",
      "__________________________________________________________________________________________________\n"
     ]
    },
    {
     "name": "stderr",
     "output_type": "stream",
     "text": [
      "D:\\anaconda\\envs\\tf3\\lib\\site-packages\\keras\\optimizer_v2\\adam.py:105: UserWarning: The `lr` argument is deprecated, use `learning_rate` instead.\n",
      "  super(Adam, self).__init__(name, **kwargs)\n"
     ]
    }
   ],
   "source": [
    "unet = Unet()\n",
    "opt = Adam(lr=1e-5) \n",
    "\n",
    "unet.compile(optimizer=opt, loss=msenonzero, metrics=[r2_keras, msenonzero])\n",
    "unet.summary()"
   ]
  },
  {
   "cell_type": "markdown",
   "id": "ad0611f8",
   "metadata": {},
   "source": [
    "# Stage-1 training"
   ]
  },
  {
   "cell_type": "markdown",
   "id": "2c9ee6d6",
   "metadata": {},
   "source": [
    "### Load stage-1 data sets"
   ]
  },
  {
   "cell_type": "code",
   "execution_count": 13,
   "id": "f18f068e",
   "metadata": {},
   "outputs": [],
   "source": [
    "x_files = sorted(glob.glob('sample_data/stage1/x/X_20*.npy'))\n",
    "y_files = sorted(glob.glob('sample_data/stage1/y/Y_20*.npy'))\n",
    "\n",
    "\n",
    "xtrain_files, ytrain_files = x_files[:14], y_files[:14]\n",
    "xtrain = np.concatenate([ np.load(s) for s in xtrain_files], axis=0)\n",
    "ytrain = np.concatenate([ np.load(s) for s in ytrain_files], axis=0)\n",
    "# print(xtrain.shape, ytrain.shape)\n",
    "\n",
    "# split into training, validation, and test sets\n",
    "xtrain, ytrain, xvalid, yvalid = data_split(xtrain, ytrain, 0.9)\n",
    "# print(xtrain.shape, ytrain.shape, xvalid.shape, yvalid.shape)"
   ]
  },
  {
   "cell_type": "markdown",
   "id": "53f1b573",
   "metadata": {},
   "source": [
    "### Stage-1 training of the Unet"
   ]
  },
  {
   "cell_type": "code",
   "execution_count": null,
   "id": "5f304151",
   "metadata": {
    "scrolled": true
   },
   "outputs": [],
   "source": [
    "csv_logger = CSVLogger( 'unet_stage1_log.csv', append=True, separator=';')\n",
    "earlystopper = EarlyStopping(patience=15, verbose=1)\n",
    "checkpointer = ModelCheckpoint('unet_checkpt_{val_loss:.2f}_{r2_keras:.2f}_stage1.h5', verbose=1, save_best_only=True)\n",
    "unet.train(xtrain, ytrain, validation_data=(xvalid, yvalid), \n",
    "           batch_size=30, epochs=250, callbacks=[earlystopper, checkpointer, csv_logger], shuffle=True)"
   ]
  },
  {
   "cell_type": "markdown",
   "id": "528b919b",
   "metadata": {},
   "source": [
    "### Save stage-1 model weights"
   ]
  },
  {
   "cell_type": "code",
   "execution_count": null,
   "id": "2bf258c3",
   "metadata": {},
   "outputs": [],
   "source": [
    "unet.save_model('unet_stage1_model.h5')"
   ]
  },
  {
   "cell_type": "markdown",
   "id": "7c4d787f",
   "metadata": {},
   "source": [
    "### Generate predictions for evaluation"
   ]
  },
  {
   "cell_type": "code",
   "execution_count": 5,
   "id": "583b63d5",
   "metadata": {},
   "outputs": [
    {
     "name": "stdout",
     "output_type": "stream",
     "text": [
      "(478, 35, 46, 9) (478, 35, 46, 1)\n"
     ]
    }
   ],
   "source": [
    "### Load testing data sets\n",
    "xtest_files = x_files[14:]\n",
    "\n",
    "### Predict using Unet\n",
    "for x in xtest_files:\n",
    "    xnow = np.load(x)\n",
    "    pred = unet.predict(xtest)\n",
    "    np.save('./stage1_output/pred_' + x)"
   ]
  },
  {
   "cell_type": "markdown",
   "id": "04688051",
   "metadata": {},
   "source": [
    "# Stage-2 training"
   ]
  },
  {
   "cell_type": "markdown",
   "id": "cdff99a0",
   "metadata": {},
   "source": [
    "### Load stage-2 data sets"
   ]
  },
  {
   "cell_type": "code",
   "execution_count": 15,
   "id": "89d16a67",
   "metadata": {},
   "outputs": [
    {
     "name": "stdout",
     "output_type": "stream",
     "text": [
      "['sample_data/stage2/x\\\\X_2014.npy', 'sample_data/stage2/x\\\\X_2015.npy', 'sample_data/stage2/x\\\\X_2016.npy', 'sample_data/stage2/x\\\\X_2017.npy', 'sample_data/stage2/x\\\\X_2018.npy', 'sample_data/stage2/x\\\\X_2019.npy', 'sample_data/stage2/x\\\\X_2020.npy'] ['sample_data/stage2/y\\\\Y_2014.npy', 'sample_data/stage2/y\\\\Y_2015.npy', 'sample_data/stage2/y\\\\Y_2016.npy', 'sample_data/stage2/y\\\\Y_2017.npy', 'sample_data/stage2/y\\\\Y_2018.npy', 'sample_data/stage2/y\\\\Y_2019.npy']\n"
     ]
    }
   ],
   "source": [
    "x_files = sorted(glob.glob('sample_data/stage2/x/X_20*.npy'))\n",
    "y_files = sorted(glob.glob('sample_data/stage2/y/Y_20*.npy'))\n",
    "print(x_files, y_files)\n",
    "xtrain_files, ytrain_files = x_files[:5], y_files[:5]\n",
    "xtrain = np.concatenate([ np.load(s) for s in xtrain_files], axis=0)\n",
    "ytrain = np.concatenate([ np.load(s) for s in ytrain_files], axis=0)\n",
    "# print(xtrain.shape, ytrain.shape)\n",
    "\n",
    "# split into training, validation, and test sets\n",
    "xtrain, ytrain, xvalid, yvalid = data_split(xtrain, ytrain, 0.9)\n",
    "# print(xtrain.shape, ytrain.shape, xvalid.shape, yvalid.shape)"
   ]
  },
  {
   "cell_type": "markdown",
   "id": "f510324b",
   "metadata": {},
   "source": [
    "### Load the stage-1 model weights to the U-net model"
   ]
  },
  {
   "cell_type": "code",
   "execution_count": null,
   "id": "d35e5ee0",
   "metadata": {},
   "outputs": [],
   "source": [
    "unet.load_weights('unet_stage1_model.h5')"
   ]
  },
  {
   "cell_type": "markdown",
   "id": "3f872388",
   "metadata": {},
   "source": [
    "### Stage-2 training of the Unet"
   ]
  },
  {
   "cell_type": "code",
   "execution_count": null,
   "id": "425f3985",
   "metadata": {},
   "outputs": [],
   "source": [
    "csv_logger = CSVLogger( 'unet_stage2_log.csv', append=True, separator=';')\n",
    "earlystopper = EarlyStopping(patience=15, verbose=1)\n",
    "checkpointer = ModelCheckpoint('unet_checkpt_{val_loss:.2f}_{r2_keras:.2f}_stage2.h5', verbose=1, save_best_only=True)\n",
    "unet.train(xtrain, ytrain, validation_data=(xvalid, yvalid), \n",
    "           batch_size=30, epochs=250, callbacks=[earlystopper, checkpointer, csv_logger], shuffle=True)"
   ]
  },
  {
   "cell_type": "markdown",
   "id": "f5434326",
   "metadata": {},
   "source": [
    "### Save stage-2 model weights"
   ]
  },
  {
   "cell_type": "code",
   "execution_count": null,
   "id": "ae31641d",
   "metadata": {},
   "outputs": [],
   "source": [
    "unet.save_model('unet_stage2_model.h5')"
   ]
  },
  {
   "cell_type": "markdown",
   "id": "702b1043",
   "metadata": {},
   "source": [
    "### Generate predictions for evaluation"
   ]
  },
  {
   "cell_type": "code",
   "execution_count": 16,
   "id": "446858f5",
   "metadata": {},
   "outputs": [
    {
     "name": "stdout",
     "output_type": "stream",
     "text": [
      "['sample_data/stage2/x\\\\X_2019.npy', 'sample_data/stage2/x\\\\X_2020.npy']\n"
     ]
    }
   ],
   "source": [
    "### Load testing data sets\n",
    "xtest_files = x_files[5:]\n",
    "print(xtest_files)\n",
    "\n",
    "### Predict using Unet\n",
    "for x in xtest_files:\n",
    "    xnow = np.load(x)\n",
    "    pred = unet.predict(xtest)\n",
    "    np.save('./stage2_output/pred_' + x)"
   ]
  }
 ],
 "metadata": {
  "kernelspec": {
   "display_name": "Python 3",
   "language": "python",
   "name": "python3"
  },
  "language_info": {
   "codemirror_mode": {
    "name": "ipython",
    "version": 3
   },
   "file_extension": ".py",
   "mimetype": "text/x-python",
   "name": "python",
   "nbconvert_exporter": "python",
   "pygments_lexer": "ipython3",
   "version": "3.8.10"
  }
 },
 "nbformat": 4,
 "nbformat_minor": 5
}
